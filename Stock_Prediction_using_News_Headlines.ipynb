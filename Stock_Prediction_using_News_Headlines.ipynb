{
  "nbformat": 4,
  "nbformat_minor": 0,
  "metadata": {
    "colab": {
      "provenance": []
    },
    "kernelspec": {
      "name": "python3",
      "display_name": "Python 3"
    },
    "language_info": {
      "name": "python"
    }
  },
  "cells": [
    {
      "cell_type": "code",
      "execution_count": 1,
      "metadata": {
        "id": "AFr9LlzBC33e"
      },
      "outputs": [],
      "source": [
        "\n",
        "# In dataset, Label 1 means stocks are going up and Label 0 means stocks are stable or going down\n",
        "# Importing necessary modules and libraries\n",
        "import pandas as pd\n",
        "from sklearn.feature_extraction.text import CountVectorizer\n",
        "from sklearn.ensemble import RandomForestClassifier\n",
        "from sklearn.metrics import classification_report, confusion_matrix, accuracy_score"
      ]
    },
    {
      "cell_type": "code",
      "source": [
        "cv = CountVectorizer(ngram_range = (3,3))\n",
        "rc = RandomForestClassifier(n_estimators = 2000, criterion = 'entropy')"
      ],
      "metadata": {
        "id": "yrhARRR5DbAH"
      },
      "execution_count": 2,
      "outputs": []
    },
    {
      "cell_type": "code",
      "source": [
        "df = pd.read_csv(\"/content/NEWS.csv\")"
      ],
      "metadata": {
        "id": "Iw9Vrlm-DiE-"
      },
      "execution_count": 4,
      "outputs": []
    },
    {
      "cell_type": "code",
      "source": [
        "train_news = df[df['Date'] < '20150101']\n",
        "test_news = df[df['Date'] > '20141231']\n",
        "news = train_news.iloc[:, 2:27]"
      ],
      "metadata": {
        "id": "sOXRxrS3EM5d"
      },
      "execution_count": 5,
      "outputs": []
    },
    {
      "cell_type": "code",
      "source": [
        "# Preprocessing of train data\n",
        "news.replace(\"[^a-zA-Z]\", \" \", regex = True, inplace = True)\n",
        "\n",
        "list_new = [i for i in range(25)]\n",
        "new_Index = [str(i) for i in list_new]\n",
        "news.columns = new_Index\n",
        "\n",
        "for j in new_Index:\n",
        "    news[j] = news[j].str.lower()\n",
        "\n",
        "' '.join(str(x) for x in news.iloc[1,0:25])\n",
        "headlines = []\n",
        "for row in range(0,len(news.index)):\n",
        "    headlines.append(' '.join(str(x) for x in news.iloc[row,0:25]))\n",
        ""
      ],
      "metadata": {
        "id": "pBUP2Z26ESQV"
      },
      "execution_count": 6,
      "outputs": []
    },
    {
      "cell_type": "code",
      "source": [
        "# Preprocessing of test data\n",
        "test_new = []\n",
        "for row in range(0,len(test_news.index)):\n",
        "    test_new.append(' '.join(str(x) for x in test_news.iloc[row,2:27]))\n",
        "\n",
        "test_new = [item.replace(\"[^a-zA-Z]\", \" \") for item in test_new]\n",
        "for k in range (0, len(test_new)):\n",
        "    test_new[k] = test_new[k].lower()"
      ],
      "metadata": {
        "id": "FFuwEYqmEWoS"
      },
      "execution_count": 7,
      "outputs": []
    },
    {
      "cell_type": "code",
      "source": [
        "# MODEL:- Bag of Words and random forest classification for classifying of labels\n",
        "train_model = cv.fit_transform(headlines)\n",
        "rc.fit(train_model, train_news['Label'])\n",
        "\n",
        "test_model = cv.transform(test_new)\n",
        "pred = rc.predict(test_model)"
      ],
      "metadata": {
        "id": "YQGyeUd-EaVf"
      },
      "execution_count": 8,
      "outputs": []
    },
    {
      "cell_type": "code",
      "source": [
        "#getting the accuracy\n",
        "matrix = confusion_matrix(test_news['Label'],pred)\n",
        "print(matrix)\n",
        "score = accuracy_score(test_news['Label'],pred)\n",
        "print(score)\n",
        "report = classification_report(test_news['Label'],pred)\n",
        "print(report)"
      ],
      "metadata": {
        "colab": {
          "base_uri": "https://localhost:8080/"
        },
        "id": "bsmso36iErlS",
        "outputId": "d909679e-30bd-4fbe-c40a-8a005497bbbf"
      },
      "execution_count": 10,
      "outputs": [
        {
          "output_type": "stream",
          "name": "stdout",
          "text": [
            "[[130  56]\n",
            " [  0 192]]\n",
            "0.8518518518518519\n",
            "              precision    recall  f1-score   support\n",
            "\n",
            "           0       1.00      0.70      0.82       186\n",
            "           1       0.77      1.00      0.87       192\n",
            "\n",
            "    accuracy                           0.85       378\n",
            "   macro avg       0.89      0.85      0.85       378\n",
            "weighted avg       0.89      0.85      0.85       378\n",
            "\n"
          ]
        }
      ]
    }
  ]
}